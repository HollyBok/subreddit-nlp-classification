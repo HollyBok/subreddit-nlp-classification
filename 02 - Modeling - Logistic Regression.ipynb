{
 "cells": [
  {
   "cell_type": "markdown",
   "metadata": {},
   "source": [
    "## Modeling - Logistic Regression"
   ]
  },
  {
   "cell_type": "code",
   "execution_count": 29,
   "metadata": {},
   "outputs": [],
   "source": [
    "# Importing packages\n",
    "\n",
    "import pandas as pd\n",
    "from sklearn.feature_extraction.text import CountVectorizer\n",
    "from sklearn.model_selection import train_test_split, GridSearchCV\n",
    "from sklearn.linear_model import LogisticRegression\n",
    "from sklearn.pipeline import Pipeline"
   ]
  },
  {
   "cell_type": "code",
   "execution_count": 30,
   "metadata": {},
   "outputs": [
    {
     "data": {
      "text/html": [
       "<div>\n",
       "<style scoped>\n",
       "    .dataframe tbody tr th:only-of-type {\n",
       "        vertical-align: middle;\n",
       "    }\n",
       "\n",
       "    .dataframe tbody tr th {\n",
       "        vertical-align: top;\n",
       "    }\n",
       "\n",
       "    .dataframe thead th {\n",
       "        text-align: right;\n",
       "    }\n",
       "</style>\n",
       "<table border=\"1\" class=\"dataframe\">\n",
       "  <thead>\n",
       "    <tr style=\"text-align: right;\">\n",
       "      <th></th>\n",
       "      <th>subreddit</th>\n",
       "      <th>title</th>\n",
       "    </tr>\n",
       "  </thead>\n",
       "  <tbody>\n",
       "    <tr>\n",
       "      <th>0</th>\n",
       "      <td>sanfrancisco</td>\n",
       "      <td>Federal complaint alleges bribery, corruption ...</td>\n",
       "    </tr>\n",
       "    <tr>\n",
       "      <th>1</th>\n",
       "      <td>sanfrancisco</td>\n",
       "      <td>Small Venue</td>\n",
       "    </tr>\n",
       "    <tr>\n",
       "      <th>2</th>\n",
       "      <td>sanfrancisco</td>\n",
       "      <td>I found some common ground!</td>\n",
       "    </tr>\n",
       "    <tr>\n",
       "      <th>3</th>\n",
       "      <td>sanfrancisco</td>\n",
       "      <td>Bells of Dracula at the Edwardian Ball</td>\n",
       "    </tr>\n",
       "    <tr>\n",
       "      <th>4</th>\n",
       "      <td>sanfrancisco</td>\n",
       "      <td>Safe to run 3-4 miles...</td>\n",
       "    </tr>\n",
       "  </tbody>\n",
       "</table>\n",
       "</div>"
      ],
      "text/plain": [
       "      subreddit                                              title\n",
       "0  sanfrancisco  Federal complaint alleges bribery, corruption ...\n",
       "1  sanfrancisco                                        Small Venue\n",
       "2  sanfrancisco                        I found some common ground!\n",
       "3  sanfrancisco             Bells of Dracula at the Edwardian Ball\n",
       "4  sanfrancisco                           Safe to run 3-4 miles..."
      ]
     },
     "execution_count": 30,
     "metadata": {},
     "output_type": "execute_result"
    }
   ],
   "source": [
    "# Importing 'df.csv'\n",
    "\n",
    "df = pd.read_csv('data/df.csv')\n",
    "df.head()"
   ]
  },
  {
   "cell_type": "code",
   "execution_count": 31,
   "metadata": {},
   "outputs": [],
   "source": [
    "# Setting X and y variables to 'title' and 'subreddit'\n",
    "# Conducting a train_test_split to split the dataframe into train and test subsets\n",
    "\n",
    "X = df['title']\n",
    "y = df['subreddit']\n",
    "X_train, X_test, y_train, y_test = train_test_split(X, y, stratify = y, random_state=13)"
   ]
  },
  {
   "cell_type": "code",
   "execution_count": 32,
   "metadata": {},
   "outputs": [],
   "source": [
    "# Instantiating a CountVectorizer. Using english stopwords from the sklearn.feature_extraction.text package.\n",
    "# Fitting the CountVectorizer to the training data.\n",
    "\n",
    "ctvc = CountVectorizer(stop_words = 'english')\n",
    "ctvc.fit(X_train);"
   ]
  },
  {
   "cell_type": "code",
   "execution_count": 33,
   "metadata": {},
   "outputs": [],
   "source": [
    "# Instantiating a pipeline for the CountVectorizer and Logistic Regression. This will transform and fit the data\n",
    "# to a logistic regression model. \n",
    "\n",
    "pipe = Pipeline([\n",
    "    ('ctvc' , CountVectorizer()),\n",
    "    ('lr' , LogisticRegression(solver='lbfgs', multi_class='auto'))\n",
    "])"
   ]
  },
  {
   "cell_type": "code",
   "execution_count": 34,
   "metadata": {},
   "outputs": [],
   "source": [
    "# Stating a range of hyperparameters to GridSearch over. These hyperparameters will all be tested in combination\n",
    "# with one another to find the combination of parameters that will result in the highest model score. \n",
    "\n",
    "pipe_params = {\n",
    "    'ctvc__max_features': [None, 5000],\n",
    "    'ctvc__max_df': [.8, .9, .95],\n",
    "    'ctvc__ngram_range': [(1,1),(1,2)]\n",
    "}"
   ]
  },
  {
   "cell_type": "code",
   "execution_count": 35,
   "metadata": {},
   "outputs": [],
   "source": [
    "# Conducting a GridSearch of 'pipe' with the possible hyperparameters in 'pipe_params'\n",
    "# Fitting the resulting gridseach model to the training data\n",
    "\n",
    "gs = GridSearchCV(pipe,\n",
    "                  pipe_params,\n",
    "                  cv=5)\n",
    "gs.fit(X_train, y_train);"
   ]
  },
  {
   "cell_type": "code",
   "execution_count": 36,
   "metadata": {},
   "outputs": [
    {
     "data": {
      "text/plain": [
       "{'ctvc__max_df': 0.8, 'ctvc__max_features': None, 'ctvc__ngram_range': (1, 1)}"
      ]
     },
     "execution_count": 36,
     "metadata": {},
     "output_type": "execute_result"
    }
   ],
   "source": [
    "gs.best_params_"
   ]
  },
  {
   "cell_type": "code",
   "execution_count": 37,
   "metadata": {},
   "outputs": [
    {
     "data": {
      "text/plain": [
       "(0.9866666666666667, 0.625)"
      ]
     },
     "execution_count": 37,
     "metadata": {},
     "output_type": "execute_result"
    }
   ],
   "source": [
    "# Scoring the training and testing data using the model 'gs'\n",
    "\n",
    "gs.score(X_train, y_train), gs.score(X_test, y_test)"
   ]
  },
  {
   "cell_type": "code",
   "execution_count": 38,
   "metadata": {},
   "outputs": [
    {
     "data": {
      "text/html": [
       "<div>\n",
       "<style scoped>\n",
       "    .dataframe tbody tr th:only-of-type {\n",
       "        vertical-align: middle;\n",
       "    }\n",
       "\n",
       "    .dataframe tbody tr th {\n",
       "        vertical-align: top;\n",
       "    }\n",
       "\n",
       "    .dataframe thead th {\n",
       "        text-align: right;\n",
       "    }\n",
       "</style>\n",
       "<table border=\"1\" class=\"dataframe\">\n",
       "  <thead>\n",
       "    <tr style=\"text-align: right;\">\n",
       "      <th></th>\n",
       "      <th>actual</th>\n",
       "      <th>predicted</th>\n",
       "      <th>title</th>\n",
       "    </tr>\n",
       "  </thead>\n",
       "  <tbody>\n",
       "    <tr>\n",
       "      <th>2368</th>\n",
       "      <td>Austin</td>\n",
       "      <td>Austin</td>\n",
       "      <td>All the cursed places you can name</td>\n",
       "    </tr>\n",
       "    <tr>\n",
       "      <th>640</th>\n",
       "      <td>sanfrancisco</td>\n",
       "      <td>sanfrancisco</td>\n",
       "      <td>City officials warn residents to beware blessi...</td>\n",
       "    </tr>\n",
       "    <tr>\n",
       "      <th>481</th>\n",
       "      <td>sanfrancisco</td>\n",
       "      <td>sanfrancisco</td>\n",
       "      <td>I made a Sutro Tower 3D laser cut wooden model...</td>\n",
       "    </tr>\n",
       "    <tr>\n",
       "      <th>144</th>\n",
       "      <td>sanfrancisco</td>\n",
       "      <td>sanfrancisco</td>\n",
       "      <td>Like a fine wine or a smokin’ China&amp;gt;Rider, ...</td>\n",
       "    </tr>\n",
       "    <tr>\n",
       "      <th>3908</th>\n",
       "      <td>Atlanta</td>\n",
       "      <td>Atlanta</td>\n",
       "      <td>Atlanta Meetup</td>\n",
       "    </tr>\n",
       "  </tbody>\n",
       "</table>\n",
       "</div>"
      ],
      "text/plain": [
       "            actual     predicted  \\\n",
       "2368        Austin        Austin   \n",
       "640   sanfrancisco  sanfrancisco   \n",
       "481   sanfrancisco  sanfrancisco   \n",
       "144   sanfrancisco  sanfrancisco   \n",
       "3908       Atlanta       Atlanta   \n",
       "\n",
       "                                                  title  \n",
       "2368                 All the cursed places you can name  \n",
       "640   City officials warn residents to beware blessi...  \n",
       "481   I made a Sutro Tower 3D laser cut wooden model...  \n",
       "144   Like a fine wine or a smokin’ China&gt;Rider, ...  \n",
       "3908                                     Atlanta Meetup  "
      ]
     },
     "execution_count": 38,
     "metadata": {},
     "output_type": "execute_result"
    }
   ],
   "source": [
    "# Generating predictions of which city each title is from and putting this into a DataFrame called\n",
    "# 'train_predictions_df'\n",
    "\n",
    "predictions_train = gs.predict(X_train)\n",
    "train_predictions_df = pd.DataFrame({\n",
    "    'actual': y_train,\n",
    "    'predicted': predictions_train,\n",
    "    'title': X_train,\n",
    "})\n",
    "train_predictions_df.head()"
   ]
  },
  {
   "cell_type": "code",
   "execution_count": 39,
   "metadata": {},
   "outputs": [
    {
     "data": {
      "text/html": [
       "<div>\n",
       "<style scoped>\n",
       "    .dataframe tbody tr th:only-of-type {\n",
       "        vertical-align: middle;\n",
       "    }\n",
       "\n",
       "    .dataframe tbody tr th {\n",
       "        vertical-align: top;\n",
       "    }\n",
       "\n",
       "    .dataframe thead th {\n",
       "        text-align: right;\n",
       "    }\n",
       "</style>\n",
       "<table border=\"1\" class=\"dataframe\">\n",
       "  <thead>\n",
       "    <tr style=\"text-align: right;\">\n",
       "      <th></th>\n",
       "      <th>actual</th>\n",
       "      <th>predicted</th>\n",
       "      <th>title</th>\n",
       "    </tr>\n",
       "  </thead>\n",
       "  <tbody>\n",
       "    <tr>\n",
       "      <th>683</th>\n",
       "      <td>sanfrancisco</td>\n",
       "      <td>sanfrancisco</td>\n",
       "      <td>Just moved here from Chicago, I could get used...</td>\n",
       "    </tr>\n",
       "    <tr>\n",
       "      <th>531</th>\n",
       "      <td>sanfrancisco</td>\n",
       "      <td>Austin</td>\n",
       "      <td>London Breed about to meet 1000 shelter bed goal</td>\n",
       "    </tr>\n",
       "    <tr>\n",
       "      <th>520</th>\n",
       "      <td>sanfrancisco</td>\n",
       "      <td>sanfrancisco</td>\n",
       "      <td>A FedEx truck hit a fire hydrant on Tehama str...</td>\n",
       "    </tr>\n",
       "    <tr>\n",
       "      <th>3250</th>\n",
       "      <td>Atlanta</td>\n",
       "      <td>Atlanta</td>\n",
       "      <td>Another fire under the 85 connector Bridge!</td>\n",
       "    </tr>\n",
       "    <tr>\n",
       "      <th>3282</th>\n",
       "      <td>Atlanta</td>\n",
       "      <td>Atlanta</td>\n",
       "      <td>What is the MUST SEE/EAT in Atlanta?!</td>\n",
       "    </tr>\n",
       "  </tbody>\n",
       "</table>\n",
       "</div>"
      ],
      "text/plain": [
       "            actual     predicted  \\\n",
       "683   sanfrancisco  sanfrancisco   \n",
       "531   sanfrancisco        Austin   \n",
       "520   sanfrancisco  sanfrancisco   \n",
       "3250       Atlanta       Atlanta   \n",
       "3282       Atlanta       Atlanta   \n",
       "\n",
       "                                                  title  \n",
       "683   Just moved here from Chicago, I could get used...  \n",
       "531    London Breed about to meet 1000 shelter bed goal  \n",
       "520   A FedEx truck hit a fire hydrant on Tehama str...  \n",
       "3250        Another fire under the 85 connector Bridge!  \n",
       "3282              What is the MUST SEE/EAT in Atlanta?!  "
      ]
     },
     "execution_count": 39,
     "metadata": {},
     "output_type": "execute_result"
    }
   ],
   "source": [
    "# Generating and saving predictions for the test data\n",
    "\n",
    "predictions_test = gs.predict(X_test)\n",
    "test_predictions_df = pd.DataFrame({\n",
    "    'actual': y_test,\n",
    "    'predicted': predictions_test,\n",
    "    'title': X_test\n",
    "})\n",
    "test_predictions_df.head()"
   ]
  },
  {
   "cell_type": "code",
   "execution_count": 40,
   "metadata": {},
   "outputs": [],
   "source": [
    "# Creating a DataFrame called 'words_df' that has every word in the corpus as well as the subreddit that each word\n",
    "# is likely to be from\n",
    "\n",
    "feature_names = ctvc.get_feature_names()\n",
    "word_cities = gs.predict(feature_names)\n",
    "words_df = pd.DataFrame({\n",
    "    'word' : feature_names,\n",
    "    'city' : word_cities\n",
    "})\n"
   ]
  },
  {
   "cell_type": "code",
   "execution_count": 41,
   "metadata": {},
   "outputs": [],
   "source": [
    "the_df = pd.concat([train_predictions_df, test_predictions_df])"
   ]
  },
  {
   "cell_type": "code",
   "execution_count": 42,
   "metadata": {},
   "outputs": [],
   "source": [
    "# Exporting predictions for titles and individual words for both training and testing\n",
    "\n",
    "the_df.to_csv('data/titles_df.csv')\n",
    "words_df.to_csv('data/words_df.csv')"
   ]
  },
  {
   "cell_type": "markdown",
   "metadata": {},
   "source": [
    "## Phrase / Word Tester"
   ]
  },
  {
   "cell_type": "code",
   "execution_count": 1,
   "metadata": {},
   "outputs": [
    {
     "ename": "NameError",
     "evalue": "name 'gs' is not defined",
     "output_type": "error",
     "traceback": [
      "\u001b[0;31m---------------------------------------------------------------------------\u001b[0m",
      "\u001b[0;31mNameError\u001b[0m                                 Traceback (most recent call last)",
      "\u001b[0;32m<ipython-input-1-17ebcb6a8783>\u001b[0m in \u001b[0;36m<module>\u001b[0;34m\u001b[0m\n\u001b[0;32m----> 1\u001b[0;31m \u001b[0mgs\u001b[0m\u001b[0;34m.\u001b[0m\u001b[0mpredict\u001b[0m\u001b[0;34m(\u001b[0m\u001b[0;34m[\u001b[0m\u001b[0;34m'test'\u001b[0m\u001b[0;34m]\u001b[0m\u001b[0;34m)\u001b[0m\u001b[0;34m[\u001b[0m\u001b[0;36m0\u001b[0m\u001b[0;34m]\u001b[0m\u001b[0;34m\u001b[0m\u001b[0;34m\u001b[0m\u001b[0m\n\u001b[0m",
      "\u001b[0;31mNameError\u001b[0m: name 'gs' is not defined"
     ]
    }
   ],
   "source": [
    "# To use the phrase / word tester, please input your phrase of choice between the\n",
    "# quotations where it says 'test.' Delete the word test and enter your phrase or word.\n",
    "gs.predict(['test'])[0]\n"
   ]
  },
  {
   "cell_type": "code",
   "execution_count": 58,
   "metadata": {},
   "outputs": [],
   "source": []
  },
  {
   "cell_type": "code",
   "execution_count": null,
   "metadata": {},
   "outputs": [],
   "source": []
  },
  {
   "cell_type": "code",
   "execution_count": null,
   "metadata": {},
   "outputs": [],
   "source": []
  }
 ],
 "metadata": {
  "kernelspec": {
   "display_name": "Python 3",
   "language": "python",
   "name": "python3"
  },
  "language_info": {
   "codemirror_mode": {
    "name": "ipython",
    "version": 3
   },
   "file_extension": ".py",
   "mimetype": "text/x-python",
   "name": "python",
   "nbconvert_exporter": "python",
   "pygments_lexer": "ipython3",
   "version": "3.7.4"
  }
 },
 "nbformat": 4,
 "nbformat_minor": 2
}
